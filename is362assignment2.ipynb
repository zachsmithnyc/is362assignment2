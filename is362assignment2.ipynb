{
 "cells": [
  {
   "cell_type": "markdown",
   "id": "cc13b28e",
   "metadata": {},
   "source": [
    "# List and Set Comprehensions in Python"
   ]
  },
  {
   "cell_type": "markdown",
   "id": "5ac5dc1d",
   "metadata": {},
   "source": [
    "When coding in the language of python much is made of whether code is 'pythonic' or not. Genreally code is considered to be 'pythonic' when it is written in the most simple and obvious way. The import caveat is that what is simple and obvious to a python veteran may seem very oblique to a newcomer. \n",
    "\n",
    "One of these Pythonic concepts is the use of a list comprehension. A list is a fundamental data structure used in python. Similar to arrays they have slighly more functionality. You can identify a list in Python as an assortment of elements surrounded by brackets.  "
   ]
  },
  {
   "cell_type": "code",
   "execution_count": 31,
   "id": "d36a5a91",
   "metadata": {},
   "outputs": [
    {
     "name": "stdout",
     "output_type": "stream",
     "text": [
      "['a', 'b', 'c', 'd', 'e']\n",
      "[1, 2, 3, 4, 5]\n"
     ]
    }
   ],
   "source": [
    "list_1 = ['a', 'b', 'c', 'd', 'e']\n",
    "list_2 = [1, 2, 3, 4, 5]\n",
    "\n",
    "print(list_1)\n",
    "print(list_2)"
   ]
  },
  {
   "cell_type": "markdown",
   "id": "3667a756",
   "metadata": {},
   "source": [
    "There are many ways to create lists in python with the first being to simply assign it a variable and type it in. However this method can quickly become impractical as data sets get larger and larger.\n",
    "\n",
    "Our first instinct to fill a list might be to use a for loop and the append() function. "
   ]
  },
  {
   "cell_type": "code",
   "execution_count": 29,
   "id": "1feb6da1",
   "metadata": {},
   "outputs": [
    {
     "name": "stdout",
     "output_type": "stream",
     "text": [
      "[1, 2, 3, 4, 5, 6, 7, 8, 9, 10, 11, 12, 13, 14, 15, 16, 17, 18, 19]\n"
     ]
    }
   ],
   "source": [
    "new_list = []\n",
    "\n",
    "for x in range(1,20):\n",
    "    new_list.append(x)\n",
    "\n",
    "print(new_list)"
   ]
  },
  {
   "cell_type": "markdown",
   "id": "abdfc42f",
   "metadata": {},
   "source": [
    "However, we can reduce the lines of code needed by using a list comprehension. "
   ]
  },
  {
   "cell_type": "code",
   "execution_count": 22,
   "id": "c41e6fd3",
   "metadata": {},
   "outputs": [
    {
     "name": "stdout",
     "output_type": "stream",
     "text": [
      "[1, 2, 3, 4, 5, 6, 7, 8, 9, 10, 11, 12, 13, 14, 15, 16, 17, 18, 19]\n"
     ]
    }
   ],
   "source": [
    "new_list = [x for x in range(1,20)]\n",
    "print(new_list)"
   ]
  },
  {
   "cell_type": "markdown",
   "id": "af8387ad",
   "metadata": {},
   "source": [
    "This is much simpler. \n",
    "\n",
    "We can even use it to gather only certain elements from our list. Let's just take the even numbers from list_2"
   ]
  },
  {
   "cell_type": "code",
   "execution_count": 20,
   "id": "e8511273",
   "metadata": {},
   "outputs": [
    {
     "name": "stdout",
     "output_type": "stream",
     "text": [
      "[0, 2, 4, 6, 8, 10, 12, 14, 16, 18]\n"
     ]
    }
   ],
   "source": [
    "even_numbers = [x for x in new_list if x % 2 == 0]\n",
    "print(even_numbers)"
   ]
  },
  {
   "cell_type": "markdown",
   "id": "345ce803",
   "metadata": {},
   "source": [
    "As you can see comprehensions are endlessly useful. \n",
    "\n",
    "They can also be used to convert lists into other data types such as dicts and sets. We will often need to convert lists into these other data types in order to work on them more efficiently and comprehensions let us do that in the fewest lines of code. \n",
    "\n",
    "Let's say we want to take all of the distinct cases of prime numbers in a list of integers. A good way to do this would be a set comprehension. Sets are similar to lists but they only deal with distinct instances of elements. They can be idenfied by curly brackets."
   ]
  },
  {
   "cell_type": "code",
   "execution_count": 28,
   "id": "50be9868",
   "metadata": {},
   "outputs": [
    {
     "name": "stdout",
     "output_type": "stream",
     "text": [
      "{1, 2, 3, 5, 7, 11, 13, 17, 19}\n"
     ]
    }
   ],
   "source": [
    "distinct_primes = {x for x in new_list if all(x % y != 0 for y in range(2, x))}\n",
    "print(distinct_primes)"
   ]
  },
  {
   "cell_type": "markdown",
   "id": "977ce665",
   "metadata": {},
   "source": [
    "Now that we have taken information from our list and converted it into a set we can use the in operation on it with much better performance. "
   ]
  },
  {
   "cell_type": "code",
   "execution_count": 30,
   "id": "2b533fa1",
   "metadata": {},
   "outputs": [
    {
     "data": {
      "text/plain": [
       "True"
      ]
     },
     "execution_count": 30,
     "metadata": {},
     "output_type": "execute_result"
    }
   ],
   "source": [
    "5 in distinct_primes"
   ]
  },
  {
   "cell_type": "markdown",
   "id": "f78a1a8c",
   "metadata": {},
   "source": [
    "Comprehensions also show up when using the zip function. When putting two iterables together this function is a fast and easy to accomplish it. "
   ]
  },
  {
   "cell_type": "code",
   "execution_count": 32,
   "id": "8230db28",
   "metadata": {},
   "outputs": [
    {
     "name": "stdout",
     "output_type": "stream",
     "text": [
      "[('a', 1), ('b', 2), ('c', 3), ('d', 4), ('e', 5)]\n"
     ]
    }
   ],
   "source": [
    "combined_lists = [combo for combo in zip(list_1, list_2)]\n",
    "print(combined_lists)"
   ]
  },
  {
   "cell_type": "markdown",
   "id": "d054ba26",
   "metadata": {},
   "source": [
    "We now have a list of tuples which pair together the elements from list_1 and list_2.\n",
    "\n",
    "So there you have it. Comprehensions are one of the most useful and therefore commonly used ways to work on data types in python. "
   ]
  }
 ],
 "metadata": {
  "kernelspec": {
   "display_name": "Python 3 (ipykernel)",
   "language": "python",
   "name": "python3"
  },
  "language_info": {
   "codemirror_mode": {
    "name": "ipython",
    "version": 3
   },
   "file_extension": ".py",
   "mimetype": "text/x-python",
   "name": "python",
   "nbconvert_exporter": "python",
   "pygments_lexer": "ipython3",
   "version": "3.9.12"
  }
 },
 "nbformat": 4,
 "nbformat_minor": 5
}
